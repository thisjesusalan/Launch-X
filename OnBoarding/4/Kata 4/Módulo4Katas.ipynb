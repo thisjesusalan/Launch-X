{
 "cells": [
  {
   "cell_type": "markdown",
   "metadata": {},
   "source": [
    "# Ejercicio 1: Transformar cadenas"
   ]
  },
  {
   "cell_type": "markdown",
   "metadata": {},
   "source": [
    "El texto con el que trabajarás es el siguiente:"
   ]
  },
  {
   "cell_type": "code",
   "execution_count": 12,
   "metadata": {},
   "outputs": [
    {
     "name": "stdout",
     "output_type": "stream",
     "text": [
      "Interesting facts about the Moon. The Moon is Earth's only satellite. There are several interesting facts about the Moon and how it affects life here on Earth.\n",
      "On average, the Moon moves 4cm away from the Earth every year. This yearly drift is not significant enough to cause immediate effects on Earth. The highest daylight temperature of the Moon is 127 C.\n"
     ]
    }
   ],
   "source": [
    "text = \"\"\"Interesting facts about the Moon. The Moon is Earth's only satellite. There are several interesting facts about the Moon and how it affects life here on Earth.\n",
    "On average, the Moon moves 4cm away from the Earth every year. This yearly drift is not significant enough to cause immediate effects on Earth. The highest daylight temperature of the Moon is 127 C.\"\"\"\n",
    "print(text)"
   ]
  },
  {
   "cell_type": "markdown",
   "metadata": {},
   "source": [
    "Primero, divide el texto en cada oración para trabajar con su contenido:"
   ]
  },
  {
   "cell_type": "code",
   "execution_count": 19,
   "metadata": {},
   "outputs": [
    {
     "name": "stdout",
     "output_type": "stream",
     "text": [
      "['interesting facts about the moon', \" the moon is earth's only satellite\", ' there are several interesting facts about the moon and how it affects life here on earth', '\\non average, the moon moves 4cm away from the earth every year', ' this yearly drift is not significant enough to cause immediate effects on earth', ' the highest daylight temperature of the moon is 127 c', '']\n"
     ]
    }
   ],
   "source": [
    "new_text = (text.lower()).split('.')\n",
    "print(new_text)"
   ]
  },
  {
   "cell_type": "markdown",
   "metadata": {},
   "source": [
    "Ahora, define algunas palabras clave para búsqueda que te ayudarán a determinar si una oración contiene un hecho."
   ]
  },
  {
   "cell_type": "code",
   "execution_count": 24,
   "metadata": {},
   "outputs": [],
   "source": [
    "keyWord_1 = 'average'\n",
    "keyWord_2 = 'temperature'\n",
    "keyWord_3 = 'distance'"
   ]
  },
  {
   "cell_type": "markdown",
   "metadata": {},
   "source": [
    "Cre un bucle para imprimir solo datos sobre la Luna que estén relacionados con las palabras clave definidas anteriormente:"
   ]
  },
  {
   "cell_type": "code",
   "execution_count": 31,
   "metadata": {},
   "outputs": [
    {
     "name": "stdout",
     "output_type": "stream",
     "text": [
      "\n",
      "on average, the moon moves 4cm away from the earth every year\n",
      " the highest daylight temperature of the moon is 127 c\n"
     ]
    }
   ],
   "source": [
    "for split in new_text:\n",
    "    \n",
    "    if keyWord_1 in split:\n",
    "        print(split)\n",
    "        \n",
    "    elif keyWord_2 in split:\n",
    "        print(split)\n",
    "    \n",
    "    elif keyWord_3 in split:\n",
    "        print(split)\n",
    "\n"
   ]
  },
  {
   "cell_type": "markdown",
   "metadata": {},
   "source": [
    "Finalmente, actualiza el bucle(ciclo) para cambiar C a Celsius:"
   ]
  },
  {
   "cell_type": "code",
   "execution_count": 38,
   "metadata": {},
   "outputs": [
    {
     "name": "stdout",
     "output_type": "stream",
     "text": [
      "\n",
      "on average, the moon moves 4cm away from the earth every year\n",
      " the highest daylight temperature of the moon is 127 Celsius\n"
     ]
    }
   ],
   "source": [
    "for split in new_text:\n",
    "    \n",
    "    if keyWord_1 in split:\n",
    "        print(split.replace(' c', ' Celsius')) # OJO: observar los espacios en los paramétros de replace.\n",
    "\n",
    "    elif keyWord_2 in split:\n",
    "        print(split.replace(' c', ' Celsius'))\n",
    "    \n",
    "    elif keyWord_3 in split:\n",
    "        print(split.replace(' c', ' Celsius'))"
   ]
  },
  {
   "cell_type": "markdown",
   "metadata": {},
   "source": [
    "# Ejercicio 2: Formateando Cadenas"
   ]
  },
  {
   "cell_type": "markdown",
   "metadata": {},
   "source": [
    "Datos con los que vas a trabajar"
   ]
  },
  {
   "cell_type": "code",
   "execution_count": 71,
   "metadata": {},
   "outputs": [],
   "source": [
    "name = \"Moon\"\n",
    "gravity = 0.00162 # in kms\n",
    "planet = \"Earth\"\n",
    "\n",
    "# name = 'Marte'\n",
    "# gravity  = 0.00143 # in kms\n",
    "# planet = 'Ganímedes'"
   ]
  },
  {
   "cell_type": "code",
   "execution_count": 72,
   "metadata": {},
   "outputs": [
    {
     "name": "stdout",
     "output_type": "stream",
     "text": [
      "Earth's Moon\n"
     ]
    }
   ],
   "source": [
    "Title = planet.title() + \"'s \" + name.title()\n",
    "print(Title)"
   ]
  },
  {
   "cell_type": "markdown",
   "metadata": {},
   "source": [
    "* Ahora crea una plantilla de cadena multilínea para contener el resto de la información. \n",
    "* En lugar de usar kilómetros, debes convertir la distancia a metros multiplicando por 1,000."
   ]
  },
  {
   "cell_type": "code",
   "execution_count": 73,
   "metadata": {},
   "outputs": [
    {
     "name": "stdout",
     "output_type": "stream",
     "text": [
      "name = \"Moon\"\n",
      "gravity = 1.6199999999999999\n",
      "planet = \"Earth\" \n"
     ]
    }
   ],
   "source": [
    "Multiline = f\"\"\"name = \"{name}\"\n",
    "gravity = {gravity*1000}\n",
    "planet = \"{planet}\" \"\"\"\n",
    "\n",
    "print(Multiline)"
   ]
  },
  {
   "cell_type": "markdown",
   "metadata": {},
   "source": [
    "Finalmente, usa ambas variables para unir el título y los hechos."
   ]
  },
  {
   "cell_type": "code",
   "execution_count": 74,
   "metadata": {},
   "outputs": [
    {
     "name": "stdout",
     "output_type": "stream",
     "text": [
      "Earth's Moon\n",
      "---------------------\n",
      "name = \"Moon\"\n",
      "gravity = 1.6199999999999999\n",
      "planet = \"Earth\" \n"
     ]
    }
   ],
   "source": [
    "Template = Title + '\\n---------------------\\n' + Multiline\n",
    "print(Template)"
   ]
  },
  {
   "cell_type": "markdown",
   "metadata": {},
   "source": [
    "Ahora usa información de una luna diferente para ver si la plantilla todavía funciona.  \n",
    "  \n",
    "Datos muestra:  \n",
    "  \n",
    "* planeta = 'Marte '  \n",
    "* gravedad  = 0.00143  \n",
    "* nombre = 'Ganímedes'"
   ]
  },
  {
   "cell_type": "code",
   "execution_count": 70,
   "metadata": {},
   "outputs": [
    {
     "name": "stdout",
     "output_type": "stream",
     "text": [
      "Ganímedes's Marte\n",
      "---------------------\n",
      "name = \"Marte\"\n",
      "gravity = 1.4300000000000002\n",
      "planet = \"Ganímedes\" \n"
     ]
    }
   ],
   "source": [
    "Template = Title + '\\n---------------------\\n' + Multiline\n",
    "print(Template)"
   ]
  }
 ],
 "metadata": {
  "interpreter": {
   "hash": "31f2aee4e71d21fbe5cf8b01ff0e069b9275f58929596ceb00d14d90e3e16cd6"
  },
  "kernelspec": {
   "display_name": "Python 3.8.10 64-bit",
   "language": "python",
   "name": "python3"
  },
  "language_info": {
   "codemirror_mode": {
    "name": "ipython",
    "version": 3
   },
   "file_extension": ".py",
   "mimetype": "text/x-python",
   "name": "python",
   "nbconvert_exporter": "python",
   "pygments_lexer": "ipython3",
   "version": "3.8.10"
  },
  "orig_nbformat": 4
 },
 "nbformat": 4,
 "nbformat_minor": 2
}
