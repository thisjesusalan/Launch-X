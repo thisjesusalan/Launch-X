{
 "cells": [
  {
   "cell_type": "markdown",
   "metadata": {},
   "source": [
    "## Ejercicio - Escribir declaraciones if, else, y elif"
   ]
  },
  {
   "cell_type": "markdown",
   "metadata": {},
   "source": [
    "Lógica condicional que imprima una advertencia si un asteroide se acerca a la Tierra demasiado rápido. La velocidad del asteroide varía dependiendo de lo cerca que esté del sol, y cualquier velocidad superior a 25 kilómetros por segundo (km/s) merece una advertencia.\n",
    "\n",
    "Un asteroide se acerca, y viaja a una velocidad de 49 km/s."
   ]
  },
  {
   "cell_type": "code",
   "execution_count": 4,
   "metadata": {},
   "outputs": [
    {
     "name": "stdout",
     "output_type": "stream",
     "text": [
      "Advertencia, el asteroide viaja a una velocidad mayor a 25 k/m\n"
     ]
    }
   ],
   "source": [
    "Velocidad_del_asteroide = input(\"Ingrese la velocidad del asteroide: \")\n",
    "if float (Velocidad_del_asteroide) > float(25):\n",
    "    print(\"Advertencia, el asteroide viaja a una velocidad mayor a 25 k/m\")"
   ]
  },
  {
   "cell_type": "markdown",
   "metadata": {},
   "source": [
    "Si un asteroide entra en la atmósfera de la Tierra a una velocidad mayor o igual a 20 km/s, a veces produce un rayo de luz que se puede ver desde la Tierra. Escribe la lógica condicional que usa declaraciones if, else, y elif para alertar a las personas de todo el mundo que deben buscar un asteroide en el cielo. \n",
    "\n",
    "¡Hay uno que se dirige a la tierra ahora a una velocidad de 19 km/s!"
   ]
  },
  {
   "cell_type": "code",
   "execution_count": 9,
   "metadata": {},
   "outputs": [
    {
     "name": "stdout",
     "output_type": "stream",
     "text": [
      "No se puede ver un rayo de luz desde la tierra\n"
     ]
    }
   ],
   "source": [
    "Velocidad_del_asteroide = input(\"Ingrese la velocidad del asteroide: \")\n",
    "if float(Velocidad_del_asteroide) > float(20):\n",
    "    print(\"Se puede ver un rayo de luz desde la tierra\")\n",
    "elif float(Velocidad_del_asteroide) == float(20):\n",
    "    print(\"Se puede ver un rayo de luz desde la tierra\")\n",
    "else:\n",
    "    print(\"No se puede ver un rayo de luz desde la tierra\")   "
   ]
  },
  {
   "cell_type": "markdown",
   "metadata": {},
   "source": [
    "## Ejercicio: Uso de operadores and y or"
   ]
  },
  {
   "cell_type": "code",
   "execution_count": 17,
   "metadata": {},
   "outputs": [
    {
     "name": "stdout",
     "output_type": "stream",
     "text": [
      "Un asteroide con tamaño<25[m] y 25>velocidad>=20[k/m] se acerca, habrá un gran destello en el cielo\n"
     ]
    }
   ],
   "source": [
    "Velocidad_del_asteroide = input(\"Ingrese la velocidad del asteroide en km/s : \")\n",
    "Tamaño_del_asteroide = input(\"Ingrese el tamaño del asteroide en metros: \")\n",
    "\n",
    "if float(Tamaño_del_asteroide) > float(25) and float(Tamaño_del_asteroide) < float(1000):\n",
    "    \n",
    "    if float(Velocidad_del_asteroide) >= float(20):\n",
    "       \n",
    "        if float(Velocidad_del_asteroide) > float(25):\n",
    "            \n",
    "            print(\"¡Cuidado! un asteroide muy grande y a gran velocidad se acerca se acerca, habrá un gran destello en el cielo\")\n",
    "        \n",
    "        else:\n",
    "            print(\"¡Cuidado! un asteroide muy grande y a 25>velocidad>=20[k/m], habrá un gran destello en el cielo\")\n",
    "    else:\n",
    "            print(\"¡Cuidado! un asteroide muy grande y a 20>velocidad[k/m]\")\n",
    "\n",
    "else:\n",
    "\n",
    "     if float(Velocidad_del_asteroide) >= float(20):\n",
    "\n",
    "        if float(Velocidad_del_asteroide) > float(25):\n",
    "            \n",
    "            print(\"¡Cuidado! un asteroide con tamaño<25[m] y a gran velocidad se acerca, habrá un gran destello en el cielo\")\n",
    "        \n",
    "        else:\n",
    "           \n",
    "            print(\"Un asteroide con tamaño<25[m] y 25>velocidad>=20[k/m] se acerca, habrá un gran destello en el cielo\")\n",
    "     else:\n",
    "        \n",
    "             print(\"Un asteroide con tamaño<25[m] y 20>velocidad[k/m] se acerca, todo bien :D\")\n",
    "\n"
   ]
  }
 ],
 "metadata": {
  "interpreter": {
   "hash": "31f2aee4e71d21fbe5cf8b01ff0e069b9275f58929596ceb00d14d90e3e16cd6"
  },
  "kernelspec": {
   "display_name": "Python 3.8.10 64-bit",
   "language": "python",
   "name": "python3"
  },
  "language_info": {
   "codemirror_mode": {
    "name": "ipython",
    "version": 3
   },
   "file_extension": ".py",
   "mimetype": "text/x-python",
   "name": "python",
   "nbconvert_exporter": "python",
   "pygments_lexer": "ipython3",
   "version": "3.8.10"
  },
  "orig_nbformat": 4
 },
 "nbformat": 4,
 "nbformat_minor": 2
}
