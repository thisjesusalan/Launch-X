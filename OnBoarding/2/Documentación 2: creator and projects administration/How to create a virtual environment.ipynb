{
 "cells": [
  {
   "cell_type": "markdown",
   "metadata": {},
   "source": [
    "# How to create virtual environment"
   ]
  },
  {
   "cell_type": "markdown",
   "metadata": {},
   "source": [
    "## Crear entorno virtual\n",
    "\n",
    "Desde tu terminal ve al directorio donde deseas guardar tu proyecto. (Documentos/TuFolderPreferido) Ejemplo en windows: cd Documents/TuFolderPreferido\n",
    "\n",
    "Utiliza el siguiente comando para llamar al módulo venv"
   ]
  },
  {
   "cell_type": "code",
   "execution_count": null,
   "metadata": {},
   "outputs": [],
   "source": [
    "python3 -m venv env"
   ]
  },
  {
   "cell_type": "markdown",
   "metadata": {},
   "source": [
    "Donde:\n",
    "*  python3: La versión de python a utilizar.\n",
    "* venv: Llamada al módulo venv conocido como virtual environment.\n",
    "* env: Nombre de nuestro entorno virtual.\n",
    "\n",
    "\n",
    "En este punto, se crean algunos directorios:\n",
    "\n",
    "/env  \n",
    "  > /bin  \n",
    "  > /include  \n",
    "  > lib\n",
    "\n",
    "\n",
    "Te sugerimos que coloques tus archivos en el directorio \"src\" o algo similar. La estructura del proyecto podría verse así:\n",
    "\n",
    "/env  \n",
    "/src  \n",
    ">program.py\n",
    "\n",
    "## Activar entorno virtual\n",
    "\n",
    "Nos movemos al directorio padre donde está todo el entorno y corremos el siguiente comando:"
   ]
  },
  {
   "cell_type": "code",
   "execution_count": null,
   "metadata": {},
   "outputs": [],
   "source": [
    "# Linux, WSL o macOS\n",
    "  source env/bin/activate"
   ]
  },
  {
   "cell_type": "markdown",
   "metadata": {},
   "source": [
    "## Instalar paquetes\n",
    "El comando pip utiliza el Python Package Index, o PyPi para abreviar, para saber dónde obtener los paquetes. Puedes visitar el sitio web de PyPi: https://pypi.org/ para conocer qué paquetes están disponibles.\n",
    "\n",
    "Para instalar un paquete, ejecute , como en este ejemplo: pip install"
   ]
  },
  {
   "cell_type": "code",
   "execution_count": null,
   "metadata": {},
   "outputs": [],
   "source": [
    "  # Bash | Consola\n",
    "  pip install python-dateutil\n",
    "\n",
    "  # Notebook\n",
    "  !pip install python-dateutil"
   ]
  },
  {
   "cell_type": "markdown",
   "metadata": {},
   "source": [
    "Después de instalar el paquete, puedes verlo en la lista si expande el directorio lib en env, así:\n",
    "\n",
    "Mensaje de salida en consola  \n",
    "  >/env  \n",
    "    >>/lib  \n",
    "      >>>/dateutil\n",
    "\n",
    "Para ver qué paquetes están ahora instalados en tu entorno virtual, puedes ejecutar:"
   ]
  },
  {
   "cell_type": "code",
   "execution_count": null,
   "metadata": {},
   "outputs": [],
   "source": [
    "  # Bash | Consola\n",
    "  pip freeze\n",
    "\n",
    "  # Notebook\n",
    "  !pip freeze"
   ]
  },
  {
   "cell_type": "markdown",
   "metadata": {},
   "source": [
    "Para asegurarte de que estos paquetes solo existen en tu entorno virtual, intenta salir de ese entorno llamando al comando:"
   ]
  },
  {
   "cell_type": "code",
   "execution_count": null,
   "metadata": {},
   "outputs": [],
   "source": [
    "# Bash | Consola\n",
    "deactivate"
   ]
  },
  {
   "cell_type": "markdown",
   "metadata": {},
   "source": [
    "Si ejecutas el comando \"pip freeze\", verás una lista mucho más larga de dependencias. Esta lista indica que verás todos los paquetes instalados en tu máquina en lugar de solo lo que está instalado en tu entorno virtual."
   ]
  },
  {
   "cell_type": "markdown",
   "metadata": {},
   "source": [
    "### Más formas de instalar un paquete\n",
    "\n",
    "También puedes utilizar los siguientes comandos para instalar un paquete:\n",
    "\n",
    "* Teniendo un conjunto de archivos en tu máquina e instalándolos desde esa fuente:\n",
    "\n"
   ]
  },
  {
   "cell_type": "markdown",
   "metadata": {},
   "source": [
    "# Bash | Consola\n",
    "cd <to where the package is on your machine>\n",
    "python3 -m pip install ."
   ]
  },
  {
   "cell_type": "markdown",
   "metadata": {},
   "source": [
    "* Instalar desde un repositorio de GitHub que nos proporciona el control de versiones:"
   ]
  },
  {
   "cell_type": "code",
   "execution_count": null,
   "metadata": {},
   "outputs": [],
   "source": [
    "git+https://github.com/your-repo.git"
   ]
  },
  {
   "cell_type": "markdown",
   "metadata": {},
   "source": [
    "* Instalar desde un archivo comprimido:"
   ]
  },
  {
   "cell_type": "code",
   "execution_count": null,
   "metadata": {},
   "outputs": [],
   "source": [
    "python3 -m pip install package.tar.gz"
   ]
  },
  {
   "cell_type": "markdown",
   "metadata": {},
   "source": [
    "### Usar un paquete instalado\n",
    "\n",
    "Asegúrate de tener un directorio para tus archivos. Te sugerimos que llames al directorio (folder) src y agregues un archivo Python llamado app.py. Ahora agrega un poco de código para llamar al comando pipdate:\n",
    "https://pypi.org/project/pipdate/"
   ]
  }
 ],
 "metadata": {
  "interpreter": {
   "hash": "7e1998ff7f8aa20ada591c520b972326324e5ea05489af9e422744c7c09f6dad"
  },
  "kernelspec": {
   "display_name": "Python 3.10.2 64-bit",
   "language": "python",
   "name": "python3"
  },
  "language_info": {
   "name": "python",
   "version": "3.10.2"
  },
  "orig_nbformat": 4
 },
 "nbformat": 4,
 "nbformat_minor": 2
}
